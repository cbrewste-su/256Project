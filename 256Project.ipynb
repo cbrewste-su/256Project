{
 "cells": [
  {
   "cell_type": "code",
   "execution_count": 8,
   "metadata": {
    "collapsed": false
   },
   "outputs": [
    {
     "name": "stdout",
     "output_type": "stream",
     "text": [
      "Enter state code: MN\n",
      "Medical\n"
     ]
    }
   ],
   "source": [
    "states_legal = {'AL' : 'Not Legal','AK' : 'Medical & Recreational','AR' : 'Medical','AZ' : 'Medical','CA' : 'Medical & Recreational' ,'CO' : 'Medical & Recreational','CT' : 'Medical','DE' : 'Medical','FL': 'Medical','GA' : 'Not Legal','HI' : 'Medical','ID' : 'Not Legal','IL' : 'Medical','IN' : 'Not Legal','IA' : 'Not Legal','KS' : 'Not Legal','KY' : 'Not Legal','LA' : 'Medical','ME' : 'Recreational & Medical','MD' : 'Medical','MA' : 'Recreational & Medical','MI' : 'Medical','MN' : 'Medical','MS' : 'Not Legal','MO' : 'Not Legal','MT' : 'Medical','NE' : 'Not Legal','NV' : 'Recreational & Medical','NH' : 'Medical','NJ' : 'Medical','NM' : 'Medical','NY' : 'Medical','NC' : 'Not Legal','ND' : 'Medical','OH' : 'Medical','OK' : 'Not Legal','OR' : 'Recreational & Medical','PA' : 'Medical','RI' : 'Medical','SC' : 'Not Legal','SD' : 'Not Legal','TN' : 'Not Legal','TX' : 'Not Legal','UT' : 'Medical','VT': 'Medical','VA' : 'Not Legal','WA' : 'Recreational & Medical','WV' : 'Not Legal','WI': 'Not Legal','WY' : 'Not Legal'}\n",
    "\n",
    "user_input = input(\"Enter state code: \")\n",
    "A = states_legal.get(user_input)\n",
    "print(A)"
   ]
  },
  {
   "cell_type": "code",
   "execution_count": 1,
   "metadata": {
    "collapsed": false
   },
   "outputs": [
    {
     "ename": "IndentationError",
     "evalue": "unexpected unindent (<ipython-input-1-225ab44f36d0>, line 29)",
     "output_type": "error",
     "traceback": [
      "\u001b[0;36m  File \u001b[0;32m\"<ipython-input-1-225ab44f36d0>\"\u001b[0;36m, line \u001b[0;32m29\u001b[0m\n\u001b[0;31m    states_legal = {'AL' : 'Not Legal','AK' : 'Medical & Recreational','AR' : 'Medical','AZ' : 'Medical','CA' : 'Medical & Recreational' ,'CO' : 'Medical & Recreational','CT' : 'Medical','DE' : 'Medical',\u001b[0m\n\u001b[0m                                                                                                                                                                                                            ^\u001b[0m\n\u001b[0;31mIndentationError\u001b[0m\u001b[0;31m:\u001b[0m unexpected unindent\n"
     ]
    }
   ],
   "source": [
    "import requests\n",
    "import json\n",
    "\n",
    "def google_geocode(user_location):\n",
    "    params = { 'address' : user_location}\n",
    "    url = \"http://maps.googleapis.com/maps/api/geocode/json\"\n",
    "    response = requests.get(url, params = params)\n",
    "    global geodata\n",
    "    geodata = response.json()\n",
    "    return geodata\n",
    "\n",
    "while True:\n",
    "    try:\n",
    "        user_location = input(\"Please enter your address, or enter 'quit': \")\n",
    "        if user_location == 'quit':\n",
    "            print(\"Thanks for using our program! Stay legal!\")\n",
    "            break\n",
    "        else:\n",
    "            geodata = google_geocode(user_location)\n",
    "            state_abb = geodata['results'][0]['address_components'][4]['short_name']\n",
    "\n",
    "            if len(state_abb) == 2:\n",
    "                print(state_abb)\n",
    "\n",
    "            elif len(state_abb) != 2:\n",
    "                state_abb = geodata['results'][0]['address_components'][5]['short_name']\n",
    "                print(state_abb)\n",
    "\n",
    "states_legal = {'AL' : 'Not Legal','AK' : 'Medical & Recreational','AR' : 'Medical','AZ' : 'Medical','CA' : 'Medical & Recreational' ,'CO' : 'Medical & Recreational','CT' : 'Medical','DE' : 'Medical',\n",
    "                'FL': 'Medical','GA' : 'Not Legal','HI' : 'Medical','ID' : 'Not Legal','IL' : 'Medical','IN' :\n",
    "                'Not Legal','IA' : 'Not Legal','KS' : 'Not Legal','KY' : 'Not Legal','LA' : 'Medical','ME' : \n",
    "                'Recreational & Medical','MD' : 'Medical','MA' : 'Recreational & Medical','MI' : 'Medical','MN' \n",
    "                : 'Medical','MS' : 'Not Legal','MO' : 'Not Legal','MT' : 'Medical','NE' : 'Not Legal','NV' :\n",
    "                'Recreational & Medical','NH' : 'Medical','NJ' : 'Medical','NM' : 'Medical','NY' : 'Medical','NC'\n",
    "                : 'Not Legal','ND' : 'Medical','OH' : 'Medical','OK' : 'Not Legal','OR' : 'Recreational & Medical'\n",
    "                ,'PA' : 'Medical','RI' : 'Medical','SC' : 'Not Legal','SD' : 'Not Legal','TN' : 'Not Legal','TX' \n",
    "                : 'Not Legal','UT' : 'Medical','VT': 'Medical','VA' : 'Not Legal','WA' : 'Recreational & Medical'\n",
    "                ,'WV' : 'Not Legal','WI': 'Not Legal','WY' : 'Not Legal'}\n",
    "legality = states_legal.get(state_abb)\n",
    "print(legality)"
   ]
  },
  {
   "cell_type": "code",
   "execution_count": null,
   "metadata": {
    "collapsed": true
   },
   "outputs": [],
   "source": []
  },
  {
   "cell_type": "code",
   "execution_count": null,
   "metadata": {
    "collapsed": true
   },
   "outputs": [],
   "source": []
  }
 ],
 "metadata": {
  "kernelspec": {
   "display_name": "Python 3",
   "language": "python",
   "name": "python3"
  }
 },
 "nbformat": 4,
 "nbformat_minor": 2
}
