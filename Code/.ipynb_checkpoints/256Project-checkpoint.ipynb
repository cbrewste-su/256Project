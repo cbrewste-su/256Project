{
 "cells": [
  {
   "cell_type": "code",
   "execution_count": 1,
   "metadata": {
    "collapsed": false
   },
   "outputs": [
    {
     "name": "stdout",
     "output_type": "stream",
     "text": [
      "Hello! This program will display the legality of marijuana in your state based on your \n",
      "address.\n",
      "Please enter your address (house #, street, and/or city), or enter 'quit': quit\n",
      "Thanks for using our program! Wee'd love to see you again!\n"
     ]
    }
   ],
   "source": [
    "import requests\n",
    "\n",
    "def google_geocode(user_location):\n",
    "    params = { 'address' : user_location}\n",
    "    url = \"http://maps.googleapis.com/maps/api/geocode/json\"\n",
    "    response = requests.get(url, params = params)\n",
    "    global geodata \n",
    "    geodata = response.json()\n",
    "    return geodata\n",
    "\n",
    "\n",
    "print(\"Hello! This program will display the legality of marijuana in your state based on your \\naddress.\")\n",
    "while True:\n",
    "    try:\n",
    "        user_location = input(\"Please enter your address (house #, street, and/or city), or enter 'quit': \")\n",
    "        if user_location == 'quit':\n",
    "            print(\"Thanks for using our program! Wee'd love to see you again!\")\n",
    "            break\n",
    "        else:\n",
    "            geodata = google_geocode(user_location)\n",
    "            state_abb = geodata['results'][0]['address_components'][4]['short_name']  \n",
    "    \n",
    "            if len(state_abb) == 2:\n",
    "                \n",
    "                states_legal = {'AL' : 'Not Legal','AK' : 'Medical & Recreational','AR' : 'Medical',\n",
    "                                'AZ' : 'Medical','CA' : 'Medical & Recreational' ,\n",
    "                                'CO' : 'Medical & Recreational','CT' : 'Medical','DE' : 'Medical',\n",
    "                                'FL': 'Medical','GA' : 'Not Legal','HI' : 'Medical','ID' : 'Not Legal',\n",
    "                                'IL' : 'Medical','IN' : 'Not Legal','IA' : 'Not Legal','KS' : 'Not Legal',\n",
    "                                'KY' : 'Not Legal','LA' : 'Medical','ME' : 'Recreational & Medical',\n",
    "                                'MD' : 'Medical','MA' : 'Recreational & Medical','MI' : 'Medical',\n",
    "                                'MN' : 'Medical','MS' : 'Not Legal','MO' : 'Not Legal','MT' : 'Medical',\n",
    "                                'NE' : 'Not Legal','NV' : 'Recreational & Medical','NH' : 'Medical',\n",
    "                                'NJ' : 'Medical','NM' : 'Medical','NY' : 'Medical','NC' : 'Not Legal',\n",
    "                                'ND' : 'Medical','OH' : 'Medical','OK' : 'Not Legal',\n",
    "                                'OR' : 'Recreational & Medical','PA' : 'Medical','RI' : 'Medical',\n",
    "                                'SC' : 'Not Legal','SD' : 'Not Legal','TN' : 'Not Legal','TX' : 'Not Legal',\n",
    "                                'UT' : 'Medical','VT': 'Medical','VA' : 'Not Legal',\n",
    "                                'WA' : 'Recreational & Medical','WV' : 'Not Legal','WI': 'Not Legal',\n",
    "                                'WY' : 'Not Legal'}\n",
    "                \n",
    "                legality = states_legal.get(state_abb)\n",
    "                print(\"In %s, the legality status of marijuana is: %s\" % (state_abb, legality))\n",
    "                \n",
    "            elif len(state_abb) != 2:\n",
    "                \n",
    "                \n",
    "                if state_abb != \"Onondaga County\" or \"Syracuse\":\n",
    "                    state_abb = geodata['results'][0]['address_components'][5]['short_name']\n",
    "    \n",
    "                    states_legal = {'AL' : 'Not Legal','AK' : 'Medical & Recreational','AR' : 'Medical',\n",
    "                                    'AZ' : 'Medical','CA' : 'Medical & Recreational' ,\n",
    "                                    'CO' : 'Medical & Recreational','CT' : 'Medical','DE' : 'Medical',\n",
    "                                    'FL': 'Medical','GA' : 'Not Legal','HI' : 'Medical','ID' : 'Not Legal',\n",
    "                                    'IL' : 'Medical','IN' : 'Not Legal','IA' : 'Not Legal','KS' : 'Not Legal',\n",
    "                                    'KY' : 'Not Legal','LA' : 'Medical','ME' : 'Recreational & Medical',\n",
    "                                    'MD' : 'Medical','MA' : 'Recreational & Medical','MI' : 'Medical',\n",
    "                                    'MN' : 'Medical','MS' : 'Not Legal','MO' : 'Not Legal','MT' : 'Medical',\n",
    "                                    'NE' : 'Not Legal','NV' : 'Recreational & Medical','NH' : 'Medical',\n",
    "                                    'NJ' : 'Medical','NM' : 'Medical','NY' : 'Medical','NC' : 'Not Legal',\n",
    "                                    'ND' : 'Medical','OH' : 'Medical','OK' : 'Not Legal',\n",
    "                                    'OR' : 'Recreational & Medical','PA' : 'Medical','RI' : 'Medical',\n",
    "                                    'SC' : 'Not Legal','SD' : 'Not Legal','TN' : 'Not Legal','TX' : 'Not Legal',\n",
    "                                    'UT' : 'Medical','VT': 'Medical','VA' : 'Not Legal',\n",
    "                                    'WA' : 'Recreational & Medical','WV' : 'Not Legal','WI': 'Not Legal',\n",
    "                                    'WY' : 'Not Legal'}\n",
    "                    legality = states_legal.get(state_abb)\n",
    "                    print(\"In %s, the legality status of marijuana is: %s\" % (state_abb, legality))\n",
    " \n",
    "                    \n",
    "           \n",
    "    except IndexError:\n",
    "        print(\"The address you entered is invalid. Please try again!\")"
   ]
  },
  {
   "cell_type": "code",
   "execution_count": null,
   "metadata": {
    "collapsed": true
   },
   "outputs": [],
   "source": []
  }
 ],
 "metadata": {
  "kernelspec": {
   "display_name": "Python 3",
   "language": "python",
   "name": "python3"
  },
  "language_info": {
   "codemirror_mode": {
    "name": "ipython",
    "version": 3
   },
   "file_extension": ".py",
   "mimetype": "text/x-python",
   "name": "python",
   "nbconvert_exporter": "python",
   "pygments_lexer": "ipython3",
   "version": "3.5.2"
  }
 },
 "nbformat": 4,
 "nbformat_minor": 2
}
